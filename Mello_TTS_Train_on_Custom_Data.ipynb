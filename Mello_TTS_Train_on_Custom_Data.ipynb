{
  "nbformat": 4,
  "nbformat_minor": 0,
  "metadata": {
    "colab": {
      "provenance": [],
      "gpuType": "T4"
    },
    "kernelspec": {
      "name": "python3",
      "display_name": "Python 3"
    },
    "language_info": {
      "name": "python"
    },
    "accelerator": "GPU"
  },
  "cells": [
    {
      "cell_type": "markdown",
      "source": [
        "[Mello TTS Training on Custom Dataset](https://github.com/myshell-ai/MeloTTS/blob/main/docs/training.md)"
      ],
      "metadata": {
        "id": "F9J40wZCRHFU"
      }
    },
    {
      "cell_type": "code",
      "execution_count": null,
      "metadata": {
        "cellView": "form",
        "id": "FJfipdsfKgU1"
      },
      "outputs": [],
      "source": [
        "#@title for colab\n",
        "# from google.colab import drive\n",
        "# import os\n",
        "# import shutil\n",
        "\n",
        "# # Set the flag to save in Google Drive\n",
        "# Save_In_Google_Drive = True  # @param {type: \"boolean\"}\n",
        "\n",
        "# if Save_In_Google_Drive:\n",
        "#     drive.mount('/content/gdrive')\n",
        "# else:\n",
        "#     pass\n",
        "\n",
        "# # Check if Google Drive is mounted\n",
        "# if os.path.exists(\"/content/gdrive/\"):\n",
        "#     # Check if the directory already exists\n",
        "#     MeloTTS_dir = \"/content/gdrive/MyDrive/MeloTTS\"\n",
        "#     if not os.path.exists(MeloTTS_dir):\n",
        "#         os.mkdir(MeloTTS_dir)  # Create the directory if it doesn't exist"
      ]
    },
    {
      "cell_type": "code",
      "source": [
        "import os\n",
        "root_path=os.getcwd()\n",
        "base_path=root_path\n",
        "# base_path=\"/content/\"\n",
        "%cd $base_path\n",
        "!git clone https://github.com/myshell-ai/MeloTTS.git\n",
        "%cd MeloTTS\n",
        "!pip install .\n",
        "!python -m unidic download\n",
        "from IPython.display import clear_output\n",
        "clear_output()"
      ],
      "metadata": {
        "id": "rLQA663nKt3d"
      },
      "execution_count": null,
      "outputs": []
    },
    {
      "cell_type": "code",
      "source": [
        "# root_path="
      ],
      "metadata": {
        "id": "C7go6-iZN6lx",
        "colab": {
          "base_uri": "https://localhost:8080/",
          "height": 35
        },
        "outputId": "0a0d3628-d154-4b53-871d-34bf657648fd"
      },
      "execution_count": null,
      "outputs": [
        {
          "output_type": "execute_result",
          "data": {
            "text/plain": [
              "'/content'"
            ],
            "application/vnd.google.colaboratory.intrinsic+json": {
              "type": "string"
            }
          },
          "metadata": {},
          "execution_count": 20
        }
      ]
    },
    {
      "cell_type": "code",
      "source": [
        "import os\n",
        "import shutil\n",
        "from IPython.display import clear_output\n",
        "\n",
        "def process_zip(zip_file_path):\n",
        "    global root_path\n",
        "    # Define paths based on root_path\n",
        "    extract_dir = f\"{root_path}/MeloTTS/melo/data/example/wavs\"\n",
        "    metadata_old_path = f\"{extract_dir}/metadata.list\"\n",
        "    metadata_file_path = f\"{root_path}/MeloTTS/melo/data/example/metadata.list\"\n",
        "\n",
        "    # Remove the target directory if it already exists\n",
        "    if os.path.exists(extract_dir):\n",
        "        shutil.rmtree(extract_dir)\n",
        "\n",
        "    # Create the target directory\n",
        "    os.makedirs(extract_dir, exist_ok=True)\n",
        "\n",
        "    # Unzip the file to the target directory\n",
        "    os.system(f\"unzip -o {zip_file_path} -d {extract_dir}\")\n",
        "\n",
        "    # Open the old file and read its lines\n",
        "    with open(metadata_old_path, 'r') as file:\n",
        "        lines = file.readlines()\n",
        "\n",
        "    # Prepend \"data/example/wavs/\" to each line\n",
        "    modified_lines = [\"data/example/wavs/\" + line for line in lines]\n",
        "\n",
        "    # Write the modified lines to a new file\n",
        "    with open(metadata_file_path, 'w') as new_file:\n",
        "        new_file.writelines(modified_lines)\n",
        "\n",
        "    # Remove the old metadata file\n",
        "    os.remove(metadata_old_path)\n",
        "\n",
        "    # Clear the output to keep the environment clean\n",
        "    clear_output()\n",
        "\n",
        "    print(f\"Modified content has been saved to {metadata_file_path}\")\n",
        "\n",
        "# Usage:\n",
        "\n"
      ],
      "metadata": {
        "colab": {
          "base_uri": "https://localhost:8080/"
        },
        "id": "q2d8mqhMf1Ss",
        "outputId": "922cb32a-01cb-44fa-a08e-a8cee3cb6108"
      },
      "execution_count": 46,
      "outputs": [
        {
          "output_type": "stream",
          "name": "stdout",
          "text": [
            "Modified content has been saved to /content/MeloTTS/melo/data/example/metadata.list\n"
          ]
        }
      ]
    },
    {
      "cell_type": "code",
      "source": [
        "zip_file_path = '/content/RONALDO.zip'  # @param {type: \"string\"}\n",
        "process_zip(zip_file_path)"
      ],
      "metadata": {
        "id": "rBureGtcgLKH"
      },
      "execution_count": null,
      "outputs": []
    },
    {
      "cell_type": "code",
      "source": [
        "os.chdir(f\"{root_path}/MeloTTS/melo\")\n",
        "!python preprocess_text.py --metadata $metadata_file_path"
      ],
      "metadata": {
        "id": "GG4MxtjDW9uf"
      },
      "execution_count": null,
      "outputs": []
    },
    {
      "cell_type": "code",
      "source": [
        "    # \"epochs\": 5000,\n",
        "    # \"batch_size\": 4,\n"
      ],
      "metadata": {
        "id": "QJt9XyO_Sarf"
      },
      "execution_count": null,
      "outputs": []
    },
    {
      "cell_type": "code",
      "source": [
        "os.chdir(f\"{root_path}/MeloTTS/melo\")\n",
        "config_path=f\"{root_path}/MeloTTS/melo/data/example/config.json\"\n",
        "!chmod +x train.sh\n",
        "!bash train.sh $config_path 1"
      ],
      "metadata": {
        "colab": {
          "base_uri": "https://localhost:8080/"
        },
        "id": "vB0rLF0jSB9k",
        "outputId": "633f2aa3-ba0a-4dff-e901-ee2db0910ba1"
      },
      "execution_count": null,
      "outputs": [
        {
          "output_type": "stream",
          "name": "stdout",
          "text": [
            "^C\n"
          ]
        }
      ]
    },
    {
      "cell_type": "code",
      "source": [
        "os.chdir(f\"{root_path}/MeloTTS/melo\")\n",
        "input_text=\"This is a demo\"\n",
        "train_model_path=\"your_path.pth\"\n",
        "save_audio_path=f\"{root_path}/test.wav\"\n",
        "!python infer.py --text $input_text -m $train_model_path -o $save_audio_path"
      ],
      "metadata": {
        "id": "mO50-Mx8X2NF"
      },
      "execution_count": null,
      "outputs": []
    }
  ]
}